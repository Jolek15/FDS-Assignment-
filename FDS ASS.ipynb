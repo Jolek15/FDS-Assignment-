{
 "cells": [
  {
   "cell_type": "code",
   "execution_count": 1,
   "id": "810ea2c7",
   "metadata": {},
   "outputs": [
    {
     "data": {
      "text/html": [
       "<div>\n",
       "<style scoped>\n",
       "    .dataframe tbody tr th:only-of-type {\n",
       "        vertical-align: middle;\n",
       "    }\n",
       "\n",
       "    .dataframe tbody tr th {\n",
       "        vertical-align: top;\n",
       "    }\n",
       "\n",
       "    .dataframe thead th {\n",
       "        text-align: right;\n",
       "    }\n",
       "</style>\n",
       "<table border=\"1\" class=\"dataframe\">\n",
       "  <thead>\n",
       "    <tr style=\"text-align: right;\">\n",
       "      <th></th>\n",
       "      <th>Rainfall</th>\n",
       "      <th>Productivity</th>\n",
       "    </tr>\n",
       "  </thead>\n",
       "  <tbody>\n",
       "    <tr>\n",
       "      <th>0</th>\n",
       "      <td>55.0</td>\n",
       "      <td>0.08</td>\n",
       "    </tr>\n",
       "    <tr>\n",
       "      <th>1</th>\n",
       "      <td>75.0</td>\n",
       "      <td>0.10</td>\n",
       "    </tr>\n",
       "    <tr>\n",
       "      <th>2</th>\n",
       "      <td>85.0</td>\n",
       "      <td>0.03</td>\n",
       "    </tr>\n",
       "    <tr>\n",
       "      <th>3</th>\n",
       "      <td>95.0</td>\n",
       "      <td>0.08</td>\n",
       "    </tr>\n",
       "    <tr>\n",
       "      <th>4</th>\n",
       "      <td>106.0</td>\n",
       "      <td>0.11</td>\n",
       "    </tr>\n",
       "    <tr>\n",
       "      <th>5</th>\n",
       "      <td>119.0</td>\n",
       "      <td>0.05</td>\n",
       "    </tr>\n",
       "    <tr>\n",
       "      <th>6</th>\n",
       "      <td>122.0</td>\n",
       "      <td>0.07</td>\n",
       "    </tr>\n",
       "    <tr>\n",
       "      <th>7</th>\n",
       "      <td>138.0</td>\n",
       "      <td>0.12</td>\n",
       "    </tr>\n",
       "    <tr>\n",
       "      <th>8</th>\n",
       "      <td>145.0</td>\n",
       "      <td>0.09</td>\n",
       "    </tr>\n",
       "    <tr>\n",
       "      <th>9</th>\n",
       "      <td>166.0</td>\n",
       "      <td>0.07</td>\n",
       "    </tr>\n",
       "    <tr>\n",
       "      <th>10</th>\n",
       "      <td>170.0</td>\n",
       "      <td>0.12</td>\n",
       "    </tr>\n",
       "    <tr>\n",
       "      <th>11</th>\n",
       "      <td>180.0</td>\n",
       "      <td>0.12</td>\n",
       "    </tr>\n",
       "    <tr>\n",
       "      <th>12</th>\n",
       "      <td>189.0</td>\n",
       "      <td>0.10</td>\n",
       "    </tr>\n",
       "    <tr>\n",
       "      <th>13</th>\n",
       "      <td>201.0</td>\n",
       "      <td>0.13</td>\n",
       "    </tr>\n",
       "    <tr>\n",
       "      <th>14</th>\n",
       "      <td>221.0</td>\n",
       "      <td>0.16</td>\n",
       "    </tr>\n",
       "    <tr>\n",
       "      <th>15</th>\n",
       "      <td>229.0</td>\n",
       "      <td>0.10</td>\n",
       "    </tr>\n",
       "    <tr>\n",
       "      <th>16</th>\n",
       "      <td>239.0</td>\n",
       "      <td>0.06</td>\n",
       "    </tr>\n",
       "    <tr>\n",
       "      <th>17</th>\n",
       "      <td>250.0</td>\n",
       "      <td>0.13</td>\n",
       "    </tr>\n",
       "    <tr>\n",
       "      <th>18</th>\n",
       "      <td>266.0</td>\n",
       "      <td>0.16</td>\n",
       "    </tr>\n",
       "    <tr>\n",
       "      <th>19</th>\n",
       "      <td>270.0</td>\n",
       "      <td>0.13</td>\n",
       "    </tr>\n",
       "    <tr>\n",
       "      <th>20</th>\n",
       "      <td>290.0</td>\n",
       "      <td>0.16</td>\n",
       "    </tr>\n",
       "    <tr>\n",
       "      <th>21</th>\n",
       "      <td>301.0</td>\n",
       "      <td>0.12</td>\n",
       "    </tr>\n",
       "    <tr>\n",
       "      <th>22</th>\n",
       "      <td>307.0</td>\n",
       "      <td>0.11</td>\n",
       "    </tr>\n",
       "    <tr>\n",
       "      <th>23</th>\n",
       "      <td>318.0</td>\n",
       "      <td>0.14</td>\n",
       "    </tr>\n",
       "    <tr>\n",
       "      <th>24</th>\n",
       "      <td>332.0</td>\n",
       "      <td>0.14</td>\n",
       "    </tr>\n",
       "    <tr>\n",
       "      <th>25</th>\n",
       "      <td>335.0</td>\n",
       "      <td>0.11</td>\n",
       "    </tr>\n",
       "    <tr>\n",
       "      <th>26</th>\n",
       "      <td>352.0</td>\n",
       "      <td>0.13</td>\n",
       "    </tr>\n",
       "    <tr>\n",
       "      <th>27</th>\n",
       "      <td>368.0</td>\n",
       "      <td>0.19</td>\n",
       "    </tr>\n",
       "  </tbody>\n",
       "</table>\n",
       "</div>"
      ],
      "text/plain": [
       "    Rainfall  Productivity\n",
       "0       55.0          0.08\n",
       "1       75.0          0.10\n",
       "2       85.0          0.03\n",
       "3       95.0          0.08\n",
       "4      106.0          0.11\n",
       "5      119.0          0.05\n",
       "6      122.0          0.07\n",
       "7      138.0          0.12\n",
       "8      145.0          0.09\n",
       "9      166.0          0.07\n",
       "10     170.0          0.12\n",
       "11     180.0          0.12\n",
       "12     189.0          0.10\n",
       "13     201.0          0.13\n",
       "14     221.0          0.16\n",
       "15     229.0          0.10\n",
       "16     239.0          0.06\n",
       "17     250.0          0.13\n",
       "18     266.0          0.16\n",
       "19     270.0          0.13\n",
       "20     290.0          0.16\n",
       "21     301.0          0.12\n",
       "22     307.0          0.11\n",
       "23     318.0          0.14\n",
       "24     332.0          0.14\n",
       "25     335.0          0.11\n",
       "26     352.0          0.13\n",
       "27     368.0          0.19"
      ]
     },
     "execution_count": 1,
     "metadata": {},
     "output_type": "execute_result"
    }
   ],
   "source": [
    "#Import directories\n",
    "import numpy as np\n",
    "import pandas as pd\n",
    "import matplotlib.pyplot as plt\n",
    "from sklearn.linear_model import LinearRegression\n",
    "\n",
    "#import the file\n",
    "df = pd.read_csv('inputdata9.csv')\n",
    "df"
   ]
  },
  {
   "cell_type": "code",
   "execution_count": 2,
   "id": "ab158545",
   "metadata": {},
   "outputs": [
    {
     "name": "stdout",
     "output_type": "stream",
     "text": [
      "[[5.50e+01 8.00e-02]\n",
      " [7.50e+01 1.00e-01]\n",
      " [8.50e+01 3.00e-02]\n",
      " [9.50e+01 8.00e-02]\n",
      " [1.06e+02 1.10e-01]\n",
      " [1.19e+02 5.00e-02]\n",
      " [1.22e+02 7.00e-02]\n",
      " [1.38e+02 1.20e-01]\n",
      " [1.45e+02 9.00e-02]\n",
      " [1.66e+02 7.00e-02]\n",
      " [1.70e+02 1.20e-01]\n",
      " [1.80e+02 1.20e-01]\n",
      " [1.89e+02 1.00e-01]\n",
      " [2.01e+02 1.30e-01]\n",
      " [2.21e+02 1.60e-01]\n",
      " [2.29e+02 1.00e-01]\n",
      " [2.39e+02 6.00e-02]\n",
      " [2.50e+02 1.30e-01]\n",
      " [2.66e+02 1.60e-01]\n",
      " [2.70e+02 1.30e-01]\n",
      " [2.90e+02 1.60e-01]\n",
      " [3.01e+02 1.20e-01]\n",
      " [3.07e+02 1.10e-01]\n",
      " [3.18e+02 1.40e-01]\n",
      " [3.32e+02 1.40e-01]\n",
      " [3.35e+02 1.10e-01]\n",
      " [3.52e+02 1.30e-01]\n",
      " [3.68e+02 1.90e-01]]\n"
     ]
    }
   ],
   "source": [
    "#reading the data into numpy array\n",
    "file = np.loadtxt('inputdata9.csv', skiprows=1, delimiter=\",\")\n",
    "\n",
    "print(file)"
   ]
  },
  {
   "cell_type": "code",
   "execution_count": 3,
   "id": "424fb5bd",
   "metadata": {},
   "outputs": [
    {
     "name": "stdout",
     "output_type": "stream",
     "text": [
      "[ 55.  75.  85.  95. 106. 119. 122. 138. 145. 166. 170. 180. 189. 201.\n",
      " 221. 229. 239. 250. 266. 270. 290. 301. 307. 318. 332. 335. 352. 368.]\n"
     ]
    }
   ],
   "source": [
    "rainfall = file[:, 0]\n",
    "print(rainfall)"
   ]
  },
  {
   "cell_type": "code",
   "execution_count": 4,
   "id": "fb44f8d8",
   "metadata": {},
   "outputs": [
    {
     "name": "stdout",
     "output_type": "stream",
     "text": [
      "[0.08 0.1  0.03 0.08 0.11 0.05 0.07 0.12 0.09 0.07 0.12 0.12 0.1  0.13\n",
      " 0.16 0.1  0.06 0.13 0.16 0.13 0.16 0.12 0.11 0.14 0.14 0.11 0.13 0.19]\n"
     ]
    }
   ],
   "source": [
    "productivity = file[:, 1]\n",
    "print(productivity)"
   ]
  },
  {
   "cell_type": "code",
   "execution_count": 5,
   "id": "7aa20629",
   "metadata": {},
   "outputs": [
    {
     "data": {
      "image/png": "[encoded data removed]",
      "text/plain": [
       "<Figure size 432x288 with 1 Axes>"
      ]
     },
     "metadata": {
      "needs_background": "light"
     },
     "output_type": "display_data"
    }
   ],
   "source": [
    "#ploting the data as a two-dimensional scatter plot\n",
    "\n",
    "plt.scatter(rainfall,productivity, color = 'g', alpha=0.6)\n",
    "plt.title('Scatter plot of Rainfall Productivity')\n",
    "plt.xlabel('Rainfall')\n",
    "plt.ylabel('Productivity')\n",
    "plt.show()"
   ]
  },
  {
   "cell_type": "code",
   "execution_count": 6,
   "id": "a61e47d5",
   "metadata": {},
   "outputs": [],
   "source": [
    "#creating a linear regression model based on the data\n"
   ]
  },
  {
   "cell_type": "code",
   "execution_count": 7,
   "id": "118daaaf",
   "metadata": {},
   "outputs": [],
   "source": [
    "#define input (X) and output(Y) variables\n",
    "x_axis = rainfall\n",
    "y_axis = productivity\n"
   ]
  },
  {
   "cell_type": "code",
   "execution_count": 8,
   "id": "0b193661",
   "metadata": {},
   "outputs": [],
   "source": [
    "from sklearn import linear_model"
   ]
  },
  {
   "cell_type": "code",
   "execution_count": 9,
   "id": "35958566",
   "metadata": {},
   "outputs": [],
   "source": [
    "# Create linear regression object\n",
    "model = linear_model.LinearRegression()"
   ]
  },
  {
   "cell_type": "code",
   "execution_count": 10,
   "id": "ef51ea06",
   "metadata": {},
   "outputs": [
    {
     "data": {
      "text/plain": [
       "(28,)"
      ]
     },
     "execution_count": 10,
     "metadata": {},
     "output_type": "execute_result"
    }
   ],
   "source": [
    "rainfall.shape"
   ]
  },
  {
   "cell_type": "code",
   "execution_count": 12,
   "id": "c682ffb8",
   "metadata": {},
   "outputs": [],
   "source": [
    "x_axis = rainfall.reshape(-1,1)"
   ]
  },
  {
   "cell_type": "code",
   "execution_count": 13,
   "id": "4bf87096",
   "metadata": {},
   "outputs": [
    {
     "data": {
      "text/plain": [
       "(28, 1)"
      ]
     },
     "execution_count": 13,
     "metadata": {},
     "output_type": "execute_result"
    }
   ],
   "source": [
    "x_axis.shape"
   ]
  },
  {
   "cell_type": "code",
   "execution_count": 14,
   "id": "ce3bdec8",
   "metadata": {},
   "outputs": [
    {
     "data": {
      "text/plain": [
       "LinearRegression()"
      ]
     },
     "execution_count": 14,
     "metadata": {},
     "output_type": "execute_result"
    }
   ],
   "source": [
    "#Training the model\n",
    "model.fit(x_axis, y_axis)"
   ]
  },
  {
   "cell_type": "code",
   "execution_count": 15,
   "id": "d24248ed",
   "metadata": {},
   "outputs": [
    {
     "name": "stdout",
     "output_type": "stream",
     "text": [
      "[0.07009591 0.07533    0.07794705 0.0805641  0.08344286 0.08684502\n",
      " 0.08763014 0.09181742 0.09364935 0.09914516 0.10019198 0.10280903\n",
      " 0.10516437 0.10830483 0.11353893 0.11563257 0.11824962 0.12112838\n",
      " 0.12531566 0.12636248 0.13159658 0.13447533 0.13604556 0.13892432\n",
      " 0.14258819 0.1433733  0.14782229 0.15200957]\n"
     ]
    }
   ],
   "source": [
    "#making prediction using rainfall data\n",
    "prediction = model.predict(x_axis)\n",
    "print(prediction)"
   ]
  },
  {
   "cell_type": "code",
   "execution_count": 16,
   "id": "7f209d81",
   "metadata": {},
   "outputs": [
    {
     "data": {
      "text/plain": [
       "0.4454639448731288"
      ]
     },
     "execution_count": 16,
     "metadata": {},
     "output_type": "execute_result"
    }
   ],
   "source": [
    "model.score(x_axis, y_axis)"
   ]
  },
  {
   "cell_type": "code",
   "execution_count": 17,
   "id": "c07d1e33",
   "metadata": {},
   "outputs": [
    {
     "name": "stdout",
     "output_type": "stream",
     "text": [
      "0.055702130773498455\n"
     ]
    }
   ],
   "source": [
    "#printing our intercept\n",
    "inter = model.intercept_\n",
    "\n",
    "print(inter)"
   ]
  },
  {
   "cell_type": "code",
   "execution_count": 18,
   "id": "203e35b2",
   "metadata": {},
   "outputs": [
    {
     "name": "stdout",
     "output_type": "stream",
     "text": [
      "[0.0002617]\n"
     ]
    }
   ],
   "source": [
    "#printing our coefficient\n",
    "coef = model.coef_\n",
    "\n",
    "print(coef)"
   ]
  },
  {
   "cell_type": "code",
   "execution_count": 19,
   "id": "77e0318b",
   "metadata": {},
   "outputs": [
    {
     "data": {
      "image/png": "[encoded data removed]",
      "text/plain": [
       "<Figure size 432x288 with 1 Axes>"
      ]
     },
     "metadata": {
      "needs_background": "light"
     },
     "output_type": "display_data"
    }
   ],
   "source": [
    "#plotting a scatter plot of the the Predicted Rainfall productivity\n",
    "\n",
    "plt.scatter(y_axis, prediction, color = 'g', alpha=0.6)\n",
    "plt.title('Scatter plot Prediction of Rainfall Productivity')\n",
    "plt.xlabel('Productivity')\n",
    "plt.ylabel('Prediction')\n",
    "plt.show()"
   ]
  },
  {
   "cell_type": "code",
   "execution_count": 20,
   "id": "8ed54f33",
   "metadata": {},
   "outputs": [
    {
     "data": {
      "image/png": "[encoded data removed]",
      "text/plain": [
       "<Figure size 432x288 with 1 Axes>"
      ]
     },
     "metadata": {
      "needs_background": "light"
     },
     "output_type": "display_data"
    }
   ],
   "source": [
    "#plotting a scatter plot of Rainfall prediction\n",
    "\n",
    "plt.scatter(x_axis, prediction, color = 'g', alpha=0.6)\n",
    "plt.title('Scatter plot Prediction of Rainfall')\n",
    "plt.xlabel('Rainfall')\n",
    "plt.ylabel('Prediction')\n",
    "plt.show()"
   ]
  },
  {
   "cell_type": "code",
   "execution_count": 21,
   "id": "5d5fe160",
   "metadata": {},
   "outputs": [
    {
     "data": {
      "image/png": "[encoded data removed]",
      "text/plain": [
       "<Figure size 720x432 with 1 Axes>"
      ]
     },
     "metadata": {
      "needs_background": "light"
     },
     "output_type": "display_data"
    }
   ],
   "source": [
    "#plotting a regression line over the original data using the regression model\n",
    "\n",
    "plt.figure(figsize = (10,6))\n",
    "plt.scatter(rainfall,productivity, color = 'g', alpha=0.6) \n",
    "plt.title('Scatter plot of Rainfall Productivity Based on Linear Regression Model')\n",
    "yhat = coef*x_axis + inter #Regression model\n",
    "plt.plot(x_axis, yhat, lw=4, c='blue', label='Regression Line') #plot of the regression line over the model\n",
    "plt.xlabel('Rainfall')\n",
    "plt.ylabel('Productivity')\n",
    "plt.legend()\n",
    "plt.show()"
   ]
  },
  {
   "cell_type": "code",
   "execution_count": 23,
   "id": "dd2ff1c5",
   "metadata": {},
   "outputs": [],
   "source": [
    "#predicted productivity coefficient for when x = 275\n",
    "x_value = 275\n",
    "input_predict = model.predict([[x_value]])"
   ]
  },
  {
   "cell_type": "code",
   "execution_count": 27,
   "id": "89b07aa2",
   "metadata": {},
   "outputs": [
    {
     "data": {
      "image/png": "[encoded data removed]",
      "text/plain": [
       "<Figure size 720x432 with 1 Axes>"
      ]
     },
     "metadata": {
      "needs_background": "light"
     },
     "output_type": "display_data"
    }
   ],
   "source": [
    "#plotting predicted productivity coefficient of rainfall based on the regression model  \n",
    "\n",
    "plt.figure(figsize = (10,6))\n",
    "plt.scatter(rainfall,productivity, color = 'g', alpha=0.6)\n",
    "plt.scatter(x_value, input_predict, color='red')\n",
    "plt.annotate(str(input_predict), xy=(x_value,input_predict), size=15)\n",
    "plt.title('Scatter plot printing predicted productivity coefficient of Rainfall based on Linear Regression Model ')\n",
    "yhat = coef*x_axis + inter\n",
    "plt.plot(x_axis, yhat, lw=4, c='blue', label='Regression Line', alpha=0.2)\n",
    "plt.xlabel('Rainfall')\n",
    "plt.ylabel('Productivity')\n",
    "plt.legend()\n",
    "plt.show()"
   ]
  },
  {
   "cell_type": "code",
   "execution_count": 29,
   "id": "c0254fc6",
   "metadata": {},
   "outputs": [
    {
     "data": {
      "image/png": "[encoded data removed]",
      "text/plain": [
       "<Figure size 720x432 with 1 Axes>"
      ]
     },
     "metadata": {
      "needs_background": "light"
     },
     "output_type": "display_data"
    }
   ],
   "source": [
    "#plotting predicted productivity coefficient \n",
    "plt.figure(figsize = (10,6))\n",
    "plt.scatter(x_axis, prediction, color = 'g', alpha=0.6)\n",
    "plt.scatter(x_value, input_predict, color='red')\n",
    "plt.annotate(str(input_predict), xy=(x_value,input_predict), size=15)\n",
    "plt.title('Scatter plot printing predicted productivity coefficient')\n",
    "plt.plot(x_axis, prediction, lw=5, c='yellow', label='Regression Line', alpha=0.2)\n",
    "plt.xlabel('Rainfall')\n",
    "plt.ylabel('Prediction')\n",
    "plt.legend()\n",
    "plt.show()\n"
   ]
  },
  {
   "cell_type": "code",
   "execution_count": null,
   "id": "f13c1da8",
   "metadata": {},
   "outputs": [],
   "source": []
  },
  {
   "cell_type": "code",
   "execution_count": null,
   "id": "4b6a6338",
   "metadata": {},
   "outputs": [],
   "source": []
  },
  {
   "cell_type": "code",
   "execution_count": null,
   "id": "011b59f8",
   "metadata": {},
   "outputs": [],
   "source": []
  }
 ],
 "metadata": {
  "kernelspec": {
   "display_name": "Python 3 (ipykernel)",
   "language": "python",
   "name": "python3"
  },
  "language_info": {
   "codemirror_mode": {
    "name": "ipython",
    "version": 3
   },
   "file_extension": ".py",
   "mimetype": "text/x-python",
   "name": "python",
   "nbconvert_exporter": "python",
   "pygments_lexer": "ipython3",
   "version": "3.9.12"
  }
 },
 "nbformat": 4,
 "nbformat_minor": 5
}
